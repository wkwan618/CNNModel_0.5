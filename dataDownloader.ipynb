{
 "cells": [
  {
   "cell_type": "code",
   "execution_count": 5,
   "metadata": {},
   "outputs": [],
   "source": [
    "import os \n",
    "os.chdir(\"/app/\")\n",
    "\n",
    "from commonPyLib.fmp import FMP\n",
    "import pandas as pd\n",
    "from commonPyLib.helpers.file import FileHelper, AppFolderPath\n",
    "\n",
    "def downloadAndSave(ticker: str, start: str, end: str):\n",
    "    prices = FMP.getTickerHistoricalPrices(ticker, start, end)\n",
    "    df = pd.DataFrame([])\n",
    "    for price in prices:\n",
    "        df = df.append({\n",
    "            \"tradingDate\": price.date,\n",
    "            \"open\": price.open,\n",
    "            \"high\": price.high,\n",
    "            \"low\": price.low,\n",
    "            \"close\": price.close,\n",
    "            \"volume\": price.volume\n",
    "        }, ignore_index=True)\n",
    "    fileName = f\"{ticker}_{start}_{end}.csv\"\n",
    "    filePath = f\"{AppFolderPath.mlChart.rawData}/{fileName}\"\n",
    "    if df.empty:\n",
    "        print(f\"No data found for {ticker} from {start} to {end}\")\n",
    "        return\n",
    "    df.to_csv(filePath, index=False)\n",
    "\n",
    "\n",
    "startDate = \"2020-01-30\"\n",
    "endDate = \"2025-01-29\"\n",
    "\n",
    "tickers = [\n",
    "    \"AAPL\",\n",
    "    \"TSLA\",\n",
    "    \"BABA\",\n",
    "    \"NVDA\",\n",
    "    \"UPST\",\n",
    "    \"MSTR\",\n",
    "    \"ARM\",\n",
    "    \"QQQ\",\n",
    "    \"AMD\",\n",
    "    \"PDD\",\n",
    "    \"CRWD\",\n",
    "    \"PLTR\",\n",
    "    \"Z\",\n",
    "    \"SYM\",\n",
    "    \"SOFI\",\n",
    "    \"U\"\n",
    "]\n",
    "\n",
    "for ticker in tickers:\n",
    "    downloadAndSave(ticker, startDate, endDate)\n"
   ]
  }
 ],
 "metadata": {
  "kernelspec": {
   "display_name": "Python 3",
   "language": "python",
   "name": "python3"
  },
  "language_info": {
   "codemirror_mode": {
    "name": "ipython",
    "version": 3
   },
   "file_extension": ".py",
   "mimetype": "text/x-python",
   "name": "python",
   "nbconvert_exporter": "python",
   "pygments_lexer": "ipython3",
   "version": "3.10.12"
  }
 },
 "nbformat": 4,
 "nbformat_minor": 2
}
