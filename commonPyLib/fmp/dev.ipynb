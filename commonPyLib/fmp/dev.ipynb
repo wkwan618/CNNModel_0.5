{
 "cells": [
  {
   "cell_type": "code",
   "execution_count": 3,
   "metadata": {},
   "outputs": [],
   "source": [
    "import os\n",
    "os.chdir(\"/app/\")\n",
    "\n",
    "from commonPyLib.fmp import fmpApiKey, FMP\n",
    "\n",
    "oo = FMP.getQuotes([\"002271.SZ\", \"300308.SZ\", \"601100.SS\", \"9988.HK\"])\n"
   ]
  },
  {
   "cell_type": "code",
   "execution_count": 4,
   "metadata": {},
   "outputs": [
    {
     "data": {
      "text/plain": [
       "QuoteItem(symbol='9988.HK', bbTicker='9988 HK Equity', ric='9988.HK', name='Alibaba Group Holding Limited', price=84.15, changesPercentage=2.6846, change=2.2, dayLow=81.8, dayHigh=84.25, yearHigh=118.7, yearLow=64.6, marketCap=1611903168592.0, priceAvg50=94.949, priceAvg200=79.98275, exchange='HKSE', volume=49721355, avgVolume=88823001, open=81.8, previousClose=81.95, eps=4.74, pe=17.75, earningsAnnouncement='2025-01-29T12:00:00.000+0000', sharesOutstanding=19155117868, timestamp=1732597291)"
      ]
     },
     "execution_count": 4,
     "metadata": {},
     "output_type": "execute_result"
    }
   ],
   "source": [
    "oo.findByBBTicker(\"9988 HK Equity\")"
   ]
  },
  {
   "cell_type": "code",
   "execution_count": 1,
   "metadata": {},
   "outputs": [
    {
     "data": {
      "text/plain": [
       "PrePostMarketQuotes(items=[PrePostMarketQuoteItem(symbol='AAPL', bbTicker='AAPL US Equity', price=231.06, size=800, timestamp=1732582797947), PrePostMarketQuoteItem(symbol='NVDA', bbTicker='NVDA US Equity', price=135.0, size=700, timestamp=1732582799933), PrePostMarketQuoteItem(symbol='TSLA', bbTicker='TSLA US Equity', price=334.41, size=100, timestamp=1732582798229)])"
      ]
     },
     "execution_count": 1,
     "metadata": {},
     "output_type": "execute_result"
    }
   ],
   "source": [
    "import os\n",
    "os.chdir(\"/app/\")\n",
    "\n",
    "from commonPyLib.fmp import fmpApiKey, FMP\n",
    "\n",
    "d = FMP.getPrePostMarketQuotes([\"AAPL\", \"NVDA\", \"TSLA\"])\n",
    "d\n"
   ]
  }
 ],
 "metadata": {
  "kernelspec": {
   "display_name": "Python 3",
   "language": "python",
   "name": "python3"
  },
  "language_info": {
   "codemirror_mode": {
    "name": "ipython",
    "version": 3
   },
   "file_extension": ".py",
   "mimetype": "text/x-python",
   "name": "python",
   "nbconvert_exporter": "python",
   "pygments_lexer": "ipython3",
   "version": "3.10.14"
  }
 },
 "nbformat": 4,
 "nbformat_minor": 2
}
